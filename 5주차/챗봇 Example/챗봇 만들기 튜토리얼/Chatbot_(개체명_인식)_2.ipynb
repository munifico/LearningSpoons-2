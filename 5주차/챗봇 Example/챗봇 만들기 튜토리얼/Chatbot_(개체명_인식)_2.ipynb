{
  "nbformat": 4,
  "nbformat_minor": 0,
  "metadata": {
    "colab": {
      "name": "Chatbot (개체명 인식) #2.ipynb",
      "provenance": [],
      "toc_visible": true,
      "machine_shape": "hm"
    },
    "kernelspec": {
      "name": "python3",
      "display_name": "Python 3"
    },
    "accelerator": "GPU"
  },
  "cells": [
    {
      "cell_type": "markdown",
      "metadata": {
        "id": "2uYX4A80WuFU"
      },
      "source": [
        "#1. BiLSTM에 익숙해지기"
      ]
    },
    {
      "cell_type": "code",
      "metadata": {
        "id": "5ivCw47bWx63"
      },
      "source": [
        "import nltk\n",
        "import numpy as np\n",
        "%matplotlib inline\n",
        "import matplotlib.pyplot as plt\n",
        "from tensorflow.keras.preprocessing.text import Tokenizer\n",
        "from tensorflow.keras.preprocessing.sequence import pad_sequences\n",
        "from tensorflow.keras.utils import to_categorical\n",
        "from sklearn.model_selection import train_test_split"
      ],
      "execution_count": null,
      "outputs": []
    },
    {
      "cell_type": "code",
      "metadata": {
        "colab": {
          "base_uri": "https://localhost:8080/"
        },
        "id": "InYObhpTW91u",
        "outputId": "678874c5-3c00-429e-9855-3f09a7395a8d"
      },
      "source": [
        "nltk.download('treebank')"
      ],
      "execution_count": null,
      "outputs": [
        {
          "output_type": "stream",
          "text": [
            "[nltk_data] Downloading package treebank to /root/nltk_data...\n",
            "[nltk_data]   Unzipping corpora/treebank.zip.\n"
          ],
          "name": "stdout"
        },
        {
          "output_type": "execute_result",
          "data": {
            "text/plain": [
              "True"
            ]
          },
          "metadata": {
            "tags": []
          },
          "execution_count": 3
        }
      ]
    },
    {
      "cell_type": "code",
      "metadata": {
        "colab": {
          "base_uri": "https://localhost:8080/"
        },
        "id": "hll0N2dGW6YE",
        "outputId": "d928e6e0-7314-450f-dff9-a3fb20513acd"
      },
      "source": [
        "tagged_sentences = nltk.corpus.treebank.tagged_sents() # 토큰화에 품사 태깅이 된 데이터 받아오기\n",
        "print(\"품사 태깅이 된 문장 개수: \", len(tagged_sentences)) # 문장 샘플의 개수 출력"
      ],
      "execution_count": null,
      "outputs": [
        {
          "output_type": "stream",
          "text": [
            "품사 태깅이 된 문장 개수:  3914\n"
          ],
          "name": "stdout"
        }
      ]
    },
    {
      "cell_type": "code",
      "metadata": {
        "colab": {
          "base_uri": "https://localhost:8080/"
        },
        "id": "WfwYDqMpW7tR",
        "outputId": "13a390a3-79b1-4cf6-b223-4a55a2661f66"
      },
      "source": [
        "print(tagged_sentences[0]) # 첫번째 샘플 출력"
      ],
      "execution_count": null,
      "outputs": [
        {
          "output_type": "stream",
          "text": [
            "[('Pierre', 'NNP'), ('Vinken', 'NNP'), (',', ','), ('61', 'CD'), ('years', 'NNS'), ('old', 'JJ'), (',', ','), ('will', 'MD'), ('join', 'VB'), ('the', 'DT'), ('board', 'NN'), ('as', 'IN'), ('a', 'DT'), ('nonexecutive', 'JJ'), ('director', 'NN'), ('Nov.', 'NNP'), ('29', 'CD'), ('.', '.')]\n"
          ],
          "name": "stdout"
        }
      ]
    },
    {
      "cell_type": "code",
      "metadata": {
        "id": "lsMqJ6cBXBTq"
      },
      "source": [
        "sentences, pos_tags = [], [] \n",
        "for tagged_sentence in tagged_sentences: # 3,914개의 문장 샘플을 1개씩 불러온다.\n",
        "    sentence, tag_info = zip(*tagged_sentence) # 각 샘플에서 단어들은 sentence에 품사 태깅 정보들은 tag_info에 저장한다.\n",
        "    sentences.append(list(sentence)) # 각 샘플에서 단어 정보만 저장한다.\n",
        "    pos_tags.append(list(tag_info)) # 각 샘플에서 품사 태깅 정보만 저장한다."
      ],
      "execution_count": null,
      "outputs": []
    },
    {
      "cell_type": "code",
      "metadata": {
        "colab": {
          "base_uri": "https://localhost:8080/"
        },
        "id": "NSN8drPMXCtq",
        "outputId": "b7f10607-319b-438a-9754-9cdf7220d283"
      },
      "source": [
        "print(sentences[8])\n",
        "print(pos_tags[8])"
      ],
      "execution_count": null,
      "outputs": [
        {
          "output_type": "stream",
          "text": [
            "['We', \"'re\", 'talking', 'about', 'years', 'ago', 'before', 'anyone', 'heard', 'of', 'asbestos', 'having', 'any', 'questionable', 'properties', '.']\n",
            "['PRP', 'VBP', 'VBG', 'IN', 'NNS', 'IN', 'IN', 'NN', 'VBD', 'IN', 'NN', 'VBG', 'DT', 'JJ', 'NNS', '.']\n"
          ],
          "name": "stdout"
        }
      ]
    },
    {
      "cell_type": "code",
      "metadata": {
        "colab": {
          "base_uri": "https://localhost:8080/",
          "height": 318
        },
        "id": "piDgp5h5XDrq",
        "outputId": "c385168b-e748-4048-e835-719e3e395edd"
      },
      "source": [
        "print('샘플의 최대 길이 : %d' % max(len(l) for l in sentences))\n",
        "print('샘플의 평균 길이 : %f' % (sum(map(len, sentences))/len(sentences)))\n",
        "plt.hist([len(s) for s in sentences], bins=50)\n",
        "plt.xlabel('length of samples')\n",
        "plt.ylabel('number of samples')\n",
        "plt.show()"
      ],
      "execution_count": null,
      "outputs": [
        {
          "output_type": "stream",
          "text": [
            "샘플의 최대 길이 : 271\n",
            "샘플의 평균 길이 : 25.722024\n"
          ],
          "name": "stdout"
        },
        {
          "output_type": "display_data",
          "data": {
            "image/png": "[encoded data removed]",
            "text/plain": [
              "<Figure size 432x288 with 1 Axes>"
            ]
          },
          "metadata": {
            "tags": [],
            "needs_background": "light"
          }
        }
      ]
    },
    {
      "cell_type": "code",
      "metadata": {
        "id": "sIwj_YPXXEnJ"
      },
      "source": [
        "def tokenize(samples):\n",
        "  tokenizer = Tokenizer()\n",
        "  tokenizer.fit_on_texts(samples)\n",
        "  return tokenizer"
      ],
      "execution_count": null,
      "outputs": []
    },
    {
      "cell_type": "code",
      "metadata": {
        "id": "HiW-SJKOXF9B"
      },
      "source": [
        "src_tokenizer = tokenize(sentences)\n",
        "tar_tokenizer = tokenize(pos_tags)"
      ],
      "execution_count": null,
      "outputs": []
    },
    {
      "cell_type": "code",
      "metadata": {
        "colab": {
          "base_uri": "https://localhost:8080/"
        },
        "id": "zIegJLmeXHVx",
        "outputId": "7ce01095-160e-419a-f009-3f3fe913a3a5"
      },
      "source": [
        "vocab_size = len(src_tokenizer.word_index) + 1\n",
        "tag_size = len(tar_tokenizer.word_index) + 1\n",
        "print('단어 집합의 크기 : {}'.format(vocab_size))\n",
        "print('태깅 정보 집합의 크기 : {}'.format(tag_size))"
      ],
      "execution_count": null,
      "outputs": [
        {
          "output_type": "stream",
          "text": [
            "단어 집합의 크기 : 11388\n",
            "태깅 정보 집합의 크기 : 47\n"
          ],
          "name": "stdout"
        }
      ]
    },
    {
      "cell_type": "code",
      "metadata": {
        "id": "xHoGMBJ6XNJC"
      },
      "source": [
        "X_train = src_tokenizer.texts_to_sequences(sentences)\n",
        "y_train = tar_tokenizer.texts_to_sequences(pos_tags)"
      ],
      "execution_count": null,
      "outputs": []
    },
    {
      "cell_type": "code",
      "metadata": {
        "colab": {
          "base_uri": "https://localhost:8080/"
        },
        "id": "3M_E44pBXOYp",
        "outputId": "0cf86415-3392-4941-d62a-67ac95223bb3"
      },
      "source": [
        "print(X_train[:2])\n",
        "print(y_train[:2])"
      ],
      "execution_count": null,
      "outputs": [
        {
          "output_type": "stream",
          "text": [
            "[[5601, 3746, 1, 2024, 86, 331, 1, 46, 2405, 2, 131, 27, 6, 2025, 332, 459, 2026, 3], [31, 3746, 20, 177, 4, 5602, 2915, 1, 2, 2916, 637, 147, 3]]\n",
            "[[3, 3, 8, 10, 6, 7, 8, 21, 13, 4, 1, 2, 4, 7, 1, 3, 10, 9], [3, 3, 17, 1, 2, 3, 3, 8, 4, 3, 19, 1, 9]]\n"
          ],
          "name": "stdout"
        }
      ]
    },
    {
      "cell_type": "code",
      "metadata": {
        "id": "2syqCcaOXPNa"
      },
      "source": [
        "max_len = 150\n",
        "X_train = pad_sequences(X_train, padding='post', maxlen=max_len)\n",
        "# X_train의 모든 샘플의 길이를 맞출 때 뒤의 공간에 숫자 0으로 채움.\n",
        "y_train = pad_sequences(y_train, padding='post', maxlen=max_len)\n",
        "# y_train의 모든 샘플의 길이를 맞출 때 뒤의 공간에 숫자 0으로 채움."
      ],
      "execution_count": null,
      "outputs": []
    },
    {
      "cell_type": "code",
      "metadata": {
        "id": "CHh5cY0lXQNB"
      },
      "source": [
        "X_train, X_test, y_train, y_test = train_test_split(X_train, y_train, test_size=.2, random_state=777)"
      ],
      "execution_count": null,
      "outputs": []
    },
    {
      "cell_type": "code",
      "metadata": {
        "id": "qxUiYTUkXRKa"
      },
      "source": [
        "y_train = to_categorical(y_train, num_classes=tag_size)\n",
        "y_test = to_categorical(y_test, num_classes=tag_size)"
      ],
      "execution_count": null,
      "outputs": []
    },
    {
      "cell_type": "code",
      "metadata": {
        "colab": {
          "base_uri": "https://localhost:8080/"
        },
        "id": "DMnxvb2MXShJ",
        "outputId": "ef05dbd2-4a5a-48de-a93c-15f37082d3c0"
      },
      "source": [
        "print('훈련 샘플 문장의 크기 : {}'.format(X_train.shape))\n",
        "print('훈련 샘플 레이블의 크기 : {}'.format(y_train.shape))\n",
        "print('테스트 샘플 문장의 크기 : {}'.format(X_test.shape))\n",
        "print('테스트 샘플 레이블의 크기 : {}'.format(y_test.shape))"
      ],
      "execution_count": null,
      "outputs": [
        {
          "output_type": "stream",
          "text": [
            "훈련 샘플 문장의 크기 : (2504, 150)\n",
            "훈련 샘플 레이블의 크기 : (2504, 150, 47)\n",
            "테스트 샘플 문장의 크기 : (627, 150)\n",
            "테스트 샘플 레이블의 크기 : (627, 150, 47)\n"
          ],
          "name": "stdout"
        }
      ]
    },
    {
      "cell_type": "code",
      "metadata": {
        "id": "kChbOqDoXTop"
      },
      "source": [
        "from keras.models import Sequential\n",
        "from keras.layers import Dense, LSTM, InputLayer, Bidirectional, TimeDistributed, Embedding\n",
        "from keras.optimizers import Adam"
      ],
      "execution_count": null,
      "outputs": []
    },
    {
      "cell_type": "code",
      "metadata": {
        "id": "jwJQ8Y7cXjJa"
      },
      "source": [
        "model = Sequential()\n",
        "model.add(Embedding(vocab_size, 128, input_length=max_len, mask_zero=True))\n",
        "model.add(Bidirectional(LSTM(256, return_sequences=True)))\n",
        "model.add(TimeDistributed(Dense(tag_size, activation=('softmax'))))\n",
        "model.compile(loss='categorical_crossentropy', optimizer=Adam(0.001), metrics=['accuracy'])"
      ],
      "execution_count": null,
      "outputs": []
    },
    {
      "cell_type": "code",
      "metadata": {
        "colab": {
          "base_uri": "https://localhost:8080/"
        },
        "id": "tcVmDWjWXk25",
        "outputId": "35a3c70a-5778-49d9-ffe9-cdcef00db5ab"
      },
      "source": [
        "model.fit(X_train, y_train, batch_size=128, epochs=6,  validation_data=(X_test, y_test))"
      ],
      "execution_count": null,
      "outputs": [
        {
          "output_type": "stream",
          "text": [
            "Epoch 1/6\n",
            "20/20 [==============================] - 73s 3s/step - loss: 0.6302 - accuracy: 0.1161 - val_loss: 0.5119 - val_accuracy: 0.1456\n",
            "Epoch 2/6\n",
            "20/20 [==============================] - 62s 3s/step - loss: 0.5259 - accuracy: 0.1568 - val_loss: 0.4807 - val_accuracy: 0.2208\n",
            "Epoch 3/6\n",
            "20/20 [==============================] - 61s 3s/step - loss: 0.4815 - accuracy: 0.2726 - val_loss: 0.4252 - val_accuracy: 0.4102\n",
            "Epoch 4/6\n",
            "20/20 [==============================] - 63s 3s/step - loss: 0.4055 - accuracy: 0.4468 - val_loss: 0.3037 - val_accuracy: 0.5490\n",
            "Epoch 5/6\n",
            "20/20 [==============================] - 61s 3s/step - loss: 0.2757 - accuracy: 0.5947 - val_loss: 0.1957 - val_accuracy: 0.7174\n",
            "Epoch 6/6\n",
            "20/20 [==============================] - 62s 3s/step - loss: 0.1681 - accuracy: 0.7812 - val_loss: 0.1219 - val_accuracy: 0.8318\n"
          ],
          "name": "stdout"
        },
        {
          "output_type": "execute_result",
          "data": {
            "text/plain": [
              "<tensorflow.python.keras.callbacks.History at 0x7f1b98353590>"
            ]
          },
          "metadata": {
            "tags": []
          },
          "execution_count": 21
        }
      ]
    },
    {
      "cell_type": "code",
      "metadata": {
        "colab": {
          "base_uri": "https://localhost:8080/"
        },
        "id": "tD32MD-eXl_R",
        "outputId": "4b46fb6a-db93-456f-b2ca-441c10049282"
      },
      "source": [
        "print(\"\\n 테스트 정확도: %.4f\" % (model.evaluate(X_test, y_test)[1]))\n"
      ],
      "execution_count": null,
      "outputs": [
        {
          "output_type": "stream",
          "text": [
            "20/20 [==============================] - 6s 276ms/step - loss: 0.1219 - accuracy: 0.8318\n",
            "\n",
            " 테스트 정확도: 0.8318\n"
          ],
          "name": "stdout"
        }
      ]
    },
    {
      "cell_type": "code",
      "metadata": {
        "colab": {
          "base_uri": "https://localhost:8080/"
        },
        "id": "usj9Oog3XoX5",
        "outputId": "234e3660-3e98-4cde-8cab-d162bcbcbe65"
      },
      "source": [
        "index_to_word=src_tokenizer.index_word\n",
        "index_to_tag=tar_tokenizer.index_word\n",
        "\n",
        "i=10 # 확인하고 싶은 테스트용 샘플의 인덱스.\n",
        "y_predicted = model.predict(np.array([X_test[i]])) # 입력한 테스트용 샘플에 대해서 예측 y를 리턴\n",
        "y_predicted = np.argmax(y_predicted, axis=-1) # 원-핫 인코딩을 다시 정수 인코딩으로 변경함.\n",
        "true = np.argmax(y_test[i], -1) # 원-핫 인코딩을 다시 정수 인코딩으로 변경함.\n",
        "\n",
        "print(\"{:15}|{:5}|{}\".format(\"단어\", \"실제값\", \"예측값\"))\n",
        "print(35 * \"-\")\n",
        "\n",
        "for w, t, pred in zip(X_test[i], true, y_predicted[0]):\n",
        "    if w != 0: # PAD값은 제외함.\n",
        "        print(\"{:17}: {:7} {}\".format(index_to_word[w], index_to_tag[t].upper(), index_to_tag[pred].upper()))"
      ],
      "execution_count": null,
      "outputs": [
        {
          "output_type": "stream",
          "text": [
            "단어             |실제값  |예측값\n",
            "-----------------------------------\n",
            "mr.              : NNP     NNP\n",
            "simmons          : NNP     NNP\n",
            "and              : CC      CC\n",
            "nl               : NNP     NNP\n",
            "already          : RB      RB\n",
            "own              : VB      JJ\n",
            "a                : DT      DT\n",
            "9.9              : CD      JJ\n",
            "%                : NN      NN\n",
            "stake            : NN      NN\n",
            "in               : IN      IN\n",
            "georgia          : NNP     NNP\n",
            "gulf             : NNP     NNP\n",
            ".                : .       .\n"
          ],
          "name": "stdout"
        }
      ]
    },
    {
      "cell_type": "markdown",
      "metadata": {
        "id": "jNfhKwZzZLPl"
      },
      "source": [
        "#2. BiLSTM을 이용한 개체명 인식(한국어) : 이 부분이 핵심!!"
      ]
    },
    {
      "cell_type": "code",
      "metadata": {
        "colab": {
          "base_uri": "https://localhost:8080/"
        },
        "id": "IzZ8jkl6Eh5r",
        "outputId": "32f71de7-c446-423b-f84a-449b53e9c20e"
      },
      "source": [
        "!pip install konlpy"
      ],
      "execution_count": null,
      "outputs": [
        {
          "output_type": "stream",
          "text": [
            "Collecting konlpy\n",
            "\u001b[?25l  Downloading https://files.pythonhosted.org/packages/85/0e/f385566fec837c0b83f216b2da65db9997b35dd675e107752005b7d392b1/konlpy-0.5.2-py2.py3-none-any.whl (19.4MB)\n",
            "\u001b[K     |████████████████████████████████| 19.4MB 8.1MB/s \n",
            "\u001b[?25hCollecting colorama\n",
            "  Downloading https://files.pythonhosted.org/packages/44/98/5b86278fbbf250d239ae0ecb724f8572af1c91f4a11edf4d36a206189440/colorama-0.4.4-py2.py3-none-any.whl\n",
            "Requirement already satisfied: numpy>=1.6 in /usr/local/lib/python3.7/dist-packages (from konlpy) (1.19.5)\n",
            "Requirement already satisfied: lxml>=4.1.0 in /usr/local/lib/python3.7/dist-packages (from konlpy) (4.2.6)\n",
            "Requirement already satisfied: tweepy>=3.7.0 in /usr/local/lib/python3.7/dist-packages (from konlpy) (3.10.0)\n",
            "Collecting JPype1>=0.7.0\n",
            "\u001b[?25l  Downloading https://files.pythonhosted.org/packages/cd/a5/9781e2ef4ca92d09912c4794642c1653aea7607f473e156cf4d423a881a1/JPype1-1.2.1-cp37-cp37m-manylinux2010_x86_64.whl (457kB)\n",
            "\u001b[K     |████████████████████████████████| 460kB 69.6MB/s \n",
            "\u001b[?25hCollecting beautifulsoup4==4.6.0\n",
            "\u001b[?25l  Downloading https://files.pythonhosted.org/packages/9e/d4/10f46e5cfac773e22707237bfcd51bbffeaf0a576b0a847ec7ab15bd7ace/beautifulsoup4-4.6.0-py3-none-any.whl (86kB)\n",
            "\u001b[K     |████████████████████████████████| 92kB 12.1MB/s \n",
            "\u001b[?25hRequirement already satisfied: six>=1.10.0 in /usr/local/lib/python3.7/dist-packages (from tweepy>=3.7.0->konlpy) (1.15.0)\n",
            "Requirement already satisfied: requests-oauthlib>=0.7.0 in /usr/local/lib/python3.7/dist-packages (from tweepy>=3.7.0->konlpy) (1.3.0)\n",
            "Requirement already satisfied: requests[socks]>=2.11.1 in /usr/local/lib/python3.7/dist-packages (from tweepy>=3.7.0->konlpy) (2.23.0)\n",
            "Requirement already satisfied: typing-extensions; python_version < \"3.8\" in /usr/local/lib/python3.7/dist-packages (from JPype1>=0.7.0->konlpy) (3.7.4.3)\n",
            "Requirement already satisfied: oauthlib>=3.0.0 in /usr/local/lib/python3.7/dist-packages (from requests-oauthlib>=0.7.0->tweepy>=3.7.0->konlpy) (3.1.0)\n",
            "Requirement already satisfied: chardet<4,>=3.0.2 in /usr/local/lib/python3.7/dist-packages (from requests[socks]>=2.11.1->tweepy>=3.7.0->konlpy) (3.0.4)\n",
            "Requirement already satisfied: idna<3,>=2.5 in /usr/local/lib/python3.7/dist-packages (from requests[socks]>=2.11.1->tweepy>=3.7.0->konlpy) (2.10)\n",
            "Requirement already satisfied: certifi>=2017.4.17 in /usr/local/lib/python3.7/dist-packages (from requests[socks]>=2.11.1->tweepy>=3.7.0->konlpy) (2020.12.5)\n",
            "Requirement already satisfied: urllib3!=1.25.0,!=1.25.1,<1.26,>=1.21.1 in /usr/local/lib/python3.7/dist-packages (from requests[socks]>=2.11.1->tweepy>=3.7.0->konlpy) (1.24.3)\n",
            "Requirement already satisfied: PySocks!=1.5.7,>=1.5.6; extra == \"socks\" in /usr/local/lib/python3.7/dist-packages (from requests[socks]>=2.11.1->tweepy>=3.7.0->konlpy) (1.7.1)\n",
            "Installing collected packages: colorama, JPype1, beautifulsoup4, konlpy\n",
            "  Found existing installation: beautifulsoup4 4.6.3\n",
            "    Uninstalling beautifulsoup4-4.6.3:\n",
            "      Successfully uninstalled beautifulsoup4-4.6.3\n",
            "Successfully installed JPype1-1.2.1 beautifulsoup4-4.6.0 colorama-0.4.4 konlpy-0.5.2\n"
          ],
          "name": "stdout"
        }
      ]
    },
    {
      "cell_type": "code",
      "metadata": {
        "id": "VpOZh60lGF7R"
      },
      "source": [
        "import pandas as pd\n",
        "import numpy as np\n",
        "import urllib.request\n",
        "from konlpy.tag import Okt\n",
        "from tensorflow.keras.preprocessing.text import Tokenizer\n",
        "from collections import Counter\n",
        "from tensorflow.keras.preprocessing.sequence import pad_sequences\n",
        "%matplotlib inline\n",
        "import matplotlib.pyplot as plt\n",
        "from sklearn.model_selection import train_test_split\n",
        "from tensorflow.keras.utils import to_categorical"
      ],
      "execution_count": null,
      "outputs": []
    },
    {
      "cell_type": "code",
      "metadata": {
        "id": "Co0HOx0CHMbw"
      },
      "source": [
        "okt = Okt()"
      ],
      "execution_count": null,
      "outputs": []
    },
    {
      "cell_type": "code",
      "metadata": {
        "colab": {
          "base_uri": "https://localhost:8080/"
        },
        "id": "z2yOPtDGGJfW",
        "outputId": "6b78b580-febd-43bc-9bcd-22e7618cbdda"
      },
      "source": [
        "urllib.request.urlretrieve(\"https://raw.githubusercontent.com/elymas/ai_chatbot_class/master/07_chatbot_class/tuto07(Intent%2C%20Entity)/Entity/train_entity.csv\", filename=\"train_entity.csv\")"
      ],
      "execution_count": null,
      "outputs": [
        {
          "output_type": "execute_result",
          "data": {
            "text/plain": [
              "('train_entity.csv', <http.client.HTTPMessage at 0x7f2e73ce6650>)"
            ]
          },
          "metadata": {
            "tags": []
          },
          "execution_count": 5
        }
      ]
    },
    {
      "cell_type": "code",
      "metadata": {
        "id": "GjBSPS44GaB-"
      },
      "source": [
        "data = pd.read_csv(\"train_entity.csv\", encoding=\"euc-kr\")"
      ],
      "execution_count": null,
      "outputs": []
    },
    {
      "cell_type": "code",
      "metadata": {
        "id": "XXW7sz1GQ79h",
        "colab": {
          "base_uri": "https://localhost:8080/",
          "height": 1000
        },
        "outputId": "86626fb9-3f13-476d-8a52-da632d302d27"
      },
      "source": [
        "data.sample(50)"
      ],
      "execution_count": null,
      "outputs": [
        {
          "output_type": "execute_result",
          "data": {
            "text/html": [
              "<div>\n",
              "<style scoped>\n",
              "    .dataframe tbody tr th:only-of-type {\n",
              "        vertical-align: middle;\n",
              "    }\n",
              "\n",
              "    .dataframe tbody tr th {\n",
              "        vertical-align: top;\n",
              "    }\n",
              "\n",
              "    .dataframe thead th {\n",
              "        text-align: right;\n",
              "    }\n",
              "</style>\n",
              "<table border=\"1\" class=\"dataframe\">\n",
              "  <thead>\n",
              "    <tr style=\"text-align: right;\">\n",
              "      <th></th>\n",
              "      <th>다음 DATE</th>\n",
              "    </tr>\n",
              "  </thead>\n",
              "  <tbody>\n",
              "    <tr>\n",
              "      <th>7252</th>\n",
              "      <td>모레 DATE</td>\n",
              "    </tr>\n",
              "    <tr>\n",
              "      <th>8191</th>\n",
              "      <td>말해줄래 O</td>\n",
              "    </tr>\n",
              "    <tr>\n",
              "      <th>7224</th>\n",
              "      <td>구리 LOCATION</td>\n",
              "    </tr>\n",
              "    <tr>\n",
              "      <th>1731</th>\n",
              "      <td>날씨 O</td>\n",
              "    </tr>\n",
              "    <tr>\n",
              "      <th>652</th>\n",
              "      <td>속초 LOCATION</td>\n",
              "    </tr>\n",
              "    <tr>\n",
              "      <th>13013</th>\n",
              "      <td>하니 O</td>\n",
              "    </tr>\n",
              "    <tr>\n",
              "      <th>6264</th>\n",
              "      <td>알려줘요 O</td>\n",
              "    </tr>\n",
              "    <tr>\n",
              "      <th>2237</th>\n",
              "      <td>내일 DATE</td>\n",
              "    </tr>\n",
              "    <tr>\n",
              "      <th>14288</th>\n",
              "      <td>좋니 O</td>\n",
              "    </tr>\n",
              "    <tr>\n",
              "      <th>9300</th>\n",
              "      <td>날씨 O</td>\n",
              "    </tr>\n",
              "    <tr>\n",
              "      <th>6366</th>\n",
              "      <td>날씨 O</td>\n",
              "    </tr>\n",
              "    <tr>\n",
              "      <th>2457</th>\n",
              "      <td>뭐야 O</td>\n",
              "    </tr>\n",
              "    <tr>\n",
              "      <th>4111</th>\n",
              "      <td>날씨 O</td>\n",
              "    </tr>\n",
              "    <tr>\n",
              "      <th>13754</th>\n",
              "      <td>하니 O</td>\n",
              "    </tr>\n",
              "    <tr>\n",
              "      <th>14635</th>\n",
              "      <td>내일 DATE</td>\n",
              "    </tr>\n",
              "    <tr>\n",
              "      <th>1837</th>\n",
              "      <td>날씨 O</td>\n",
              "    </tr>\n",
              "    <tr>\n",
              "      <th>4829</th>\n",
              "      <td>알려주세요 O</td>\n",
              "    </tr>\n",
              "    <tr>\n",
              "      <th>15586</th>\n",
              "      <td>오늘 DATE</td>\n",
              "    </tr>\n",
              "    <tr>\n",
              "      <th>10511</th>\n",
              "      <td>공기 O</td>\n",
              "    </tr>\n",
              "    <tr>\n",
              "      <th>9879</th>\n",
              "      <td>하늘 O</td>\n",
              "    </tr>\n",
              "    <tr>\n",
              "      <th>14217</th>\n",
              "      <td>우산 O</td>\n",
              "    </tr>\n",
              "    <tr>\n",
              "      <th>6620</th>\n",
              "      <td>내일 DATE</td>\n",
              "    </tr>\n",
              "    <tr>\n",
              "      <th>15868</th>\n",
              "      <td>어떠니 O</td>\n",
              "    </tr>\n",
              "    <tr>\n",
              "      <th>8934</th>\n",
              "      <td>날씨 O</td>\n",
              "    </tr>\n",
              "    <tr>\n",
              "      <th>10228</th>\n",
              "      <td>하늘 O</td>\n",
              "    </tr>\n",
              "    <tr>\n",
              "      <th>11799</th>\n",
              "      <td>우비 O</td>\n",
              "    </tr>\n",
              "    <tr>\n",
              "      <th>11776</th>\n",
              "      <td>챙길까 O</td>\n",
              "    </tr>\n",
              "    <tr>\n",
              "      <th>3040</th>\n",
              "      <td>하니 O</td>\n",
              "    </tr>\n",
              "    <tr>\n",
              "      <th>11134</th>\n",
              "      <td>모레 DATE</td>\n",
              "    </tr>\n",
              "    <tr>\n",
              "      <th>11136</th>\n",
              "      <td>써야 O</td>\n",
              "    </tr>\n",
              "    <tr>\n",
              "      <th>12343</th>\n",
              "      <td>마스크 O</td>\n",
              "    </tr>\n",
              "    <tr>\n",
              "      <th>11005</th>\n",
              "      <td>마스크 O</td>\n",
              "    </tr>\n",
              "    <tr>\n",
              "      <th>15445</th>\n",
              "      <td>입을까 O</td>\n",
              "    </tr>\n",
              "    <tr>\n",
              "      <th>5458</th>\n",
              "      <td>날씨 O</td>\n",
              "    </tr>\n",
              "    <tr>\n",
              "      <th>11213</th>\n",
              "      <td>써야 O</td>\n",
              "    </tr>\n",
              "    <tr>\n",
              "      <th>13961</th>\n",
              "      <td>하니 O</td>\n",
              "    </tr>\n",
              "    <tr>\n",
              "      <th>11950</th>\n",
              "      <td>부산 LOCATION</td>\n",
              "    </tr>\n",
              "    <tr>\n",
              "      <th>7925</th>\n",
              "      <td>옥구 LOCATION</td>\n",
              "    </tr>\n",
              "    <tr>\n",
              "      <th>16175</th>\n",
              "      <td>하니 O</td>\n",
              "    </tr>\n",
              "    <tr>\n",
              "      <th>2979</th>\n",
              "      <td>신촌 LOCATION</td>\n",
              "    </tr>\n",
              "    <tr>\n",
              "      <th>9378</th>\n",
              "      <td>표선면 LOCATION</td>\n",
              "    </tr>\n",
              "    <tr>\n",
              "      <th>12892</th>\n",
              "      <td>주 DATE</td>\n",
              "    </tr>\n",
              "    <tr>\n",
              "      <th>10356</th>\n",
              "      <td>강릉 LOCATION</td>\n",
              "    </tr>\n",
              "    <tr>\n",
              "      <th>6045</th>\n",
              "      <td>알려줘 O</td>\n",
              "    </tr>\n",
              "    <tr>\n",
              "      <th>2178</th>\n",
              "      <td>알려줄래 O</td>\n",
              "    </tr>\n",
              "    <tr>\n",
              "      <th>11642</th>\n",
              "      <td>돼 O</td>\n",
              "    </tr>\n",
              "    <tr>\n",
              "      <th>12435</th>\n",
              "      <td>싫은데 O</td>\n",
              "    </tr>\n",
              "    <tr>\n",
              "      <th>3096</th>\n",
              "      <td>오늘 DATE</td>\n",
              "    </tr>\n",
              "    <tr>\n",
              "      <th>9089</th>\n",
              "      <td>알려줄 O</td>\n",
              "    </tr>\n",
              "    <tr>\n",
              "      <th>11976</th>\n",
              "      <td>다음 DATE</td>\n",
              "    </tr>\n",
              "  </tbody>\n",
              "</table>\n",
              "</div>"
            ],
            "text/plain": [
              "            다음 DATE\n",
              "7252        모레 DATE\n",
              "8191         말해줄래 O\n",
              "7224    구리 LOCATION\n",
              "1731           날씨 O\n",
              "652     속초 LOCATION\n",
              "13013          하니 O\n",
              "6264         알려줘요 O\n",
              "2237        내일 DATE\n",
              "14288          좋니 O\n",
              "9300           날씨 O\n",
              "6366           날씨 O\n",
              "2457           뭐야 O\n",
              "4111           날씨 O\n",
              "13754          하니 O\n",
              "14635       내일 DATE\n",
              "1837           날씨 O\n",
              "4829        알려주세요 O\n",
              "15586       오늘 DATE\n",
              "10511          공기 O\n",
              "9879           하늘 O\n",
              "14217          우산 O\n",
              "6620        내일 DATE\n",
              "15868         어떠니 O\n",
              "8934           날씨 O\n",
              "10228          하늘 O\n",
              "11799          우비 O\n",
              "11776         챙길까 O\n",
              "3040           하니 O\n",
              "11134       모레 DATE\n",
              "11136          써야 O\n",
              "12343         마스크 O\n",
              "11005         마스크 O\n",
              "15445         입을까 O\n",
              "5458           날씨 O\n",
              "11213          써야 O\n",
              "13961          하니 O\n",
              "11950   부산 LOCATION\n",
              "7925    옥구 LOCATION\n",
              "16175          하니 O\n",
              "2979    신촌 LOCATION\n",
              "9378   표선면 LOCATION\n",
              "12892        주 DATE\n",
              "10356   강릉 LOCATION\n",
              "6045          알려줘 O\n",
              "2178         알려줄래 O\n",
              "11642           돼 O\n",
              "12435         싫은데 O\n",
              "3096        오늘 DATE\n",
              "9089          알려줄 O\n",
              "11976       다음 DATE"
            ]
          },
          "metadata": {
            "tags": []
          },
          "execution_count": 8
        }
      ]
    },
    {
      "cell_type": "code",
      "metadata": {
        "id": "d7AXW-OMGy1_"
      },
      "source": [
        "with open('train_entity.csv', encoding='euc-kr') as f:\n",
        "    tokenized_sentences, labels = [], []\n",
        "    tokenized_sentence, label = [], []\n",
        "    for line in f:\n",
        "        line = line.strip()\n",
        "        if (len(line) == 0 or line.startswith(\"-DOCSTART-\")):\n",
        "            if not len(tokenized_sentence) == 0:\n",
        "                tokenized_sentences.append(tokenized_sentence)\n",
        "                labels.append(label)\n",
        "                tokenized_sentence, label = [], [] #초기화\n",
        "        else:\n",
        "            word, tag = line.split(' ')\n",
        "            tokenized_sentence.append(word)\n",
        "            label.append(tag)"
      ],
      "execution_count": null,
      "outputs": []
    },
    {
      "cell_type": "code",
      "metadata": {
        "colab": {
          "base_uri": "https://localhost:8080/"
        },
        "id": "_eIsVcdoG4BV",
        "outputId": "29b54732-6b07-4022-dd26-4b2f77032542"
      },
      "source": [
        "tokenized_sentences[:5]"
      ],
      "execution_count": null,
      "outputs": [
        {
          "output_type": "execute_result",
          "data": {
            "text/plain": [
              "[['다음', '주', '전주', '비', '오려나'],\n",
              " ['이번', '주', '서울', '눈', '오니'],\n",
              " ['이번', '주', '대구', '날씨', '비', '오는지', '알려줘'],\n",
              " ['부산', '이번', '주', '날씨', '맑은지', '알려줄래'],\n",
              " ['광주', '이번', '주', '눈', '오려나']]"
            ]
          },
          "metadata": {
            "tags": []
          },
          "execution_count": 15
        }
      ]
    },
    {
      "cell_type": "code",
      "metadata": {
        "colab": {
          "base_uri": "https://localhost:8080/"
        },
        "id": "qveMafZdG7AV",
        "outputId": "2daa54e8-3e2d-40d4-87b9-31372d838588"
      },
      "source": [
        "labels[:5]"
      ],
      "execution_count": null,
      "outputs": [
        {
          "output_type": "execute_result",
          "data": {
            "text/plain": [
              "[['DATE', 'DATE', 'LOCATION', 'O', 'O'],\n",
              " ['DATE', 'DATE', 'LOCATION', 'O', 'O'],\n",
              " ['DATE', 'DATE', 'LOCATION', 'O', 'O', 'O', 'O'],\n",
              " ['LOCATION', 'DATE', 'DATE', 'O', 'O', 'O'],\n",
              " ['LOCATION', 'DATE', 'DATE', 'O', 'O']]"
            ]
          },
          "metadata": {
            "tags": []
          },
          "execution_count": 16
        }
      ]
    },
    {
      "cell_type": "markdown",
      "metadata": {
        "id": "_4pcEzJDHUUr"
      },
      "source": [
        "데이터가 이미 토큰화되어 제공되고 있으나, 태소 분석기에 따라서 토큰화 결과가 다르므로 사용하고자 하는 형태소 분석기에 맞게 재토큰화를 해보겠습니다."
      ]
    },
    {
      "cell_type": "code",
      "metadata": {
        "id": "urYxbAjPG8-O"
      },
      "source": [
        "for ts, label in zip(tokenized_sentences, labels):\n",
        "    for idx, word in enumerate(ts):\n",
        "        if len(okt.morphs(word))>1:\n",
        "            tokenized_word = okt.morphs(word)\n",
        "            ts.pop(idx)\n",
        "            tag = label.pop(idx)\n",
        "            for i in tokenized_word[::-1]:\n",
        "                ts.insert(idx, i)\n",
        "                label.insert(idx, tag)"
      ],
      "execution_count": null,
      "outputs": []
    },
    {
      "cell_type": "code",
      "metadata": {
        "colab": {
          "base_uri": "https://localhost:8080/"
        },
        "id": "XONCGuqZHH62",
        "outputId": "148384c3-4ad5-40eb-89f2-ad35df8d2bb0"
      },
      "source": [
        "tokenized_sentences[:5]"
      ],
      "execution_count": null,
      "outputs": [
        {
          "output_type": "execute_result",
          "data": {
            "text/plain": [
              "[['다음', '주', '전주', '비', '오려나'],\n",
              " ['이번', '주', '서울', '눈', '오니'],\n",
              " ['이번', '주', '대구', '날씨', '비', '오는지', '알려줘'],\n",
              " ['부산', '이번', '주', '날씨', '맑은', '지', '알려줄래'],\n",
              " ['광주', '이번', '주', '눈', '오려나']]"
            ]
          },
          "metadata": {
            "tags": []
          },
          "execution_count": 20
        }
      ]
    },
    {
      "cell_type": "code",
      "metadata": {
        "colab": {
          "base_uri": "https://localhost:8080/"
        },
        "id": "oXU8XZArHghP",
        "outputId": "aa9d6811-2017-4822-d2f1-4fba6f62aeb4"
      },
      "source": [
        "labels[:5]"
      ],
      "execution_count": null,
      "outputs": [
        {
          "output_type": "execute_result",
          "data": {
            "text/plain": [
              "[['DATE', 'DATE', 'LOCATION', 'O', 'O'],\n",
              " ['DATE', 'DATE', 'LOCATION', 'O', 'O'],\n",
              " ['DATE', 'DATE', 'LOCATION', 'O', 'O', 'O', 'O'],\n",
              " ['LOCATION', 'DATE', 'DATE', 'O', 'O', 'O', 'O'],\n",
              " ['LOCATION', 'DATE', 'DATE', 'O', 'O']]"
            ]
          },
          "metadata": {
            "tags": []
          },
          "execution_count": 21
        }
      ]
    },
    {
      "cell_type": "code",
      "metadata": {
        "colab": {
          "base_uri": "https://localhost:8080/"
        },
        "id": "9sGKSMMAHh-_",
        "outputId": "f847d480-a8c4-4706-8dc8-b1790f69e19d"
      },
      "source": [
        "print('샘플 수 :',len(tokenized_sentences))\n",
        "print('레이블 수 :',len(labels))"
      ],
      "execution_count": null,
      "outputs": [
        {
          "output_type": "stream",
          "text": [
            "샘플 수 : 3851\n",
            "레이블 수 : 3851\n"
          ],
          "name": "stdout"
        }
      ]
    },
    {
      "cell_type": "code",
      "metadata": {
        "colab": {
          "base_uri": "https://localhost:8080/",
          "height": 315
        },
        "id": "K8dHaUGMHj6_",
        "outputId": "3478784c-9b0e-42dc-b7fd-1665e0a42876"
      },
      "source": [
        "print('샘플의 최대 길이 : %d' % max(len(l) for l in tokenized_sentences))\n",
        "print('샘플의 평균 길이 : %f' % (sum(map(len, tokenized_sentences))/len(tokenized_sentences)))\n",
        "plt.hist([len(s) for s in tokenized_sentences], bins=50)\n",
        "plt.xlabel('length of samples')\n",
        "plt.ylabel('number of samples')\n",
        "plt.show()"
      ],
      "execution_count": null,
      "outputs": [
        {
          "output_type": "stream",
          "text": [
            "샘플의 최대 길이 : 24\n",
            "샘플의 평균 길이 : 4.541418\n"
          ],
          "name": "stdout"
        },
        {
          "output_type": "display_data",
          "data": {
            "image/png": "[encoded data removed]",
            "text/plain": [
              "<Figure size 432x288 with 1 Axes>"
            ]
          },
          "metadata": {
            "tags": [],
            "needs_background": "light"
          }
        }
      ]
    },
    {
      "cell_type": "code",
      "metadata": {
        "id": "af6_oMeNHq8W"
      },
      "source": [
        "src_tokenizer = Tokenizer(oov_token='OOV') # 모든 단어를 사용하지만 인덱스 1에는 단어 'OOV'를 할당한다.\n",
        "src_tokenizer.fit_on_texts(tokenized_sentences)\n",
        "tar_tokenizer = Tokenizer(lower=False) # 태깅 정보들은 내부적으로 대문자를 유지한채로 저장\n",
        "tar_tokenizer.fit_on_texts(labels)"
      ],
      "execution_count": null,
      "outputs": []
    },
    {
      "cell_type": "code",
      "metadata": {
        "colab": {
          "base_uri": "https://localhost:8080/"
        },
        "id": "EsaodnQ2HvDe",
        "outputId": "95255eb7-fbdf-469f-9320-1692bd0b9213"
      },
      "source": [
        "vocab_size = len(src_tokenizer.word_index) + 1\n",
        "tag_size = len(tar_tokenizer.word_index) + 1\n",
        "print('단어 집합의 크기 : {}'.format(vocab_size))\n",
        "print('개체명 태깅 정보 집합의 크기 : {}'.format(tag_size))"
      ],
      "execution_count": null,
      "outputs": [
        {
          "output_type": "stream",
          "text": [
            "단어 집합의 크기 : 533\n",
            "개체명 태깅 정보 집합의 크기 : 4\n"
          ],
          "name": "stdout"
        }
      ]
    },
    {
      "cell_type": "code",
      "metadata": {
        "colab": {
          "base_uri": "https://localhost:8080/"
        },
        "id": "miG7nIPOH04m",
        "outputId": "790c6631-ea64-47e0-cee8-a96dbba58d1a"
      },
      "source": [
        "print('단어 OOV의 인덱스 : {}'.format(src_tokenizer.word_index['OOV']))"
      ],
      "execution_count": null,
      "outputs": [
        {
          "output_type": "stream",
          "text": [
            "단어 OOV의 인덱스 : 1\n"
          ],
          "name": "stdout"
        }
      ]
    },
    {
      "cell_type": "code",
      "metadata": {
        "id": "fI_6N0diH2Nm"
      },
      "source": [
        "X_data = src_tokenizer.texts_to_sequences(tokenized_sentences)\n",
        "y_data = tar_tokenizer.texts_to_sequences(labels)"
      ],
      "execution_count": null,
      "outputs": []
    },
    {
      "cell_type": "code",
      "metadata": {
        "colab": {
          "base_uri": "https://localhost:8080/"
        },
        "id": "-RmPmg4HH5Dt",
        "outputId": "5e77da56-f99f-49b5-e421-86fe91b42c53"
      },
      "source": [
        "print(X_data[0])\n",
        "print(y_data[0])"
      ],
      "execution_count": null,
      "outputs": [
        {
          "output_type": "stream",
          "text": [
            "[47, 8, 25, 15, 53]\n",
            "[3, 3, 2, 1, 1]\n"
          ],
          "name": "stdout"
        }
      ]
    },
    {
      "cell_type": "code",
      "metadata": {
        "id": "Fnw3h9SIH-7F"
      },
      "source": [
        "word_to_index = src_tokenizer.word_index\n",
        "index_to_word = src_tokenizer.index_word\n",
        "ner_to_index = tar_tokenizer.word_index\n",
        "index_to_ner = tar_tokenizer.index_word\n",
        "index_to_ner[0] = 'PAD'"
      ],
      "execution_count": null,
      "outputs": []
    },
    {
      "cell_type": "code",
      "metadata": {
        "colab": {
          "base_uri": "https://localhost:8080/"
        },
        "id": "RxG76y9aIAaN",
        "outputId": "29dc55b3-23ce-441c-8634-0335ab198c69"
      },
      "source": [
        "print(index_to_ner)"
      ],
      "execution_count": null,
      "outputs": [
        {
          "output_type": "stream",
          "text": [
            "{1: 'O', 2: 'LOCATION', 3: 'DATE', 0: 'PAD'}\n"
          ],
          "name": "stdout"
        }
      ]
    },
    {
      "cell_type": "code",
      "metadata": {
        "colab": {
          "base_uri": "https://localhost:8080/"
        },
        "id": "MwYOVnrPIBkt",
        "outputId": "81ea5301-63b5-4392-9f79-4b9a0fe6a421"
      },
      "source": [
        "decoded = []\n",
        "for index in X_data[0] : # 첫번째 샘플 안의 인덱스들에 대해서\n",
        "    decoded.append(index_to_word[index]) # 다시 단어로 변환\n",
        "\n",
        "print('기존의 문장 : {}'.format(tokenized_sentences[0]))\n",
        "print('디코딩 문장 : {}'.format(decoded))"
      ],
      "execution_count": null,
      "outputs": [
        {
          "output_type": "stream",
          "text": [
            "기존의 문장 : ['다음', '주', '전주', '비', '오려나']\n",
            "디코딩 문장 : ['다음', '주', '전주', '비', '오려나']\n"
          ],
          "name": "stdout"
        }
      ]
    },
    {
      "cell_type": "code",
      "metadata": {
        "id": "mv6T9EDZIC9d"
      },
      "source": [
        "max_len = 70\n",
        "# 모든 샘플들의 길이를 맞출 때 뒤의 공간에 숫자 0으로 채움.\n",
        "X_data = pad_sequences(X_data, padding='post', maxlen=max_len)\n",
        "y_data = pad_sequences(y_data, padding='post', maxlen=max_len)"
      ],
      "execution_count": null,
      "outputs": []
    },
    {
      "cell_type": "code",
      "metadata": {
        "id": "XQfSrGqwIF1-"
      },
      "source": [
        "y_data  = to_categorical(y_data , num_classes=tag_size)"
      ],
      "execution_count": null,
      "outputs": []
    },
    {
      "cell_type": "code",
      "metadata": {
        "id": "Opcm5g7jIKTG"
      },
      "source": [
        "from keras.models import Sequential\n",
        "from keras.layers import Dense, LSTM, InputLayer, Bidirectional, TimeDistributed, Embedding\n",
        "from keras.optimizers import Adam\n",
        "from keras.models import load_model"
      ],
      "execution_count": null,
      "outputs": []
    },
    {
      "cell_type": "code",
      "metadata": {
        "id": "MkebMIYlIRjm"
      },
      "source": [
        "model = Sequential()\n",
        "model.add(Embedding(vocab_size, 64, input_length=max_len, mask_zero=True))\n",
        "model.add(Bidirectional(LSTM(64, return_sequences=True)))\n",
        "model.add(TimeDistributed(Dense(tag_size, activation=('softmax'))))\n",
        "model.compile(loss='categorical_crossentropy', optimizer=Adam(0.001), metrics=['accuracy'])"
      ],
      "execution_count": null,
      "outputs": []
    },
    {
      "cell_type": "code",
      "metadata": {
        "colab": {
          "base_uri": "https://localhost:8080/"
        },
        "id": "u7NSxFkGIaUk",
        "outputId": "ae36d91c-0957-4cf6-d1af-2d62fa8eeaa1"
      },
      "source": [
        "model.summary()"
      ],
      "execution_count": null,
      "outputs": [
        {
          "output_type": "stream",
          "text": [
            "Model: \"sequential_1\"\n",
            "_________________________________________________________________\n",
            "Layer (type)                 Output Shape              Param #   \n",
            "=================================================================\n",
            "embedding_1 (Embedding)      (None, 70, 64)            34112     \n",
            "_________________________________________________________________\n",
            "bidirectional_1 (Bidirection (None, 70, 128)           66048     \n",
            "_________________________________________________________________\n",
            "time_distributed_1 (TimeDist (None, 70, 4)             516       \n",
            "=================================================================\n",
            "Total params: 100,676\n",
            "Trainable params: 100,676\n",
            "Non-trainable params: 0\n",
            "_________________________________________________________________\n"
          ],
          "name": "stdout"
        }
      ]
    },
    {
      "cell_type": "code",
      "metadata": {
        "colab": {
          "base_uri": "https://localhost:8080/"
        },
        "id": "7DWMaKH9IWBm",
        "outputId": "1c06fef2-2ab8-4447-d289-008bf631c1c4"
      },
      "source": [
        "history = model.fit(X_data, y_data, batch_size=32, epochs=3)"
      ],
      "execution_count": null,
      "outputs": [
        {
          "output_type": "stream",
          "text": [
            "Epoch 1/3\n",
            "121/121 [==============================] - 10s 10ms/step - loss: 0.0626 - accuracy: 0.6647\n",
            "Epoch 2/3\n",
            "121/121 [==============================] - 1s 8ms/step - loss: 0.0054 - accuracy: 0.9802\n",
            "Epoch 3/3\n",
            "121/121 [==============================] - 1s 7ms/step - loss: 8.8660e-04 - accuracy: 0.9979\n"
          ],
          "name": "stdout"
        }
      ]
    },
    {
      "cell_type": "code",
      "metadata": {
        "id": "0DQDsYxBIgsE"
      },
      "source": [
        "prediction = '내일 부산 날씨는?'"
      ],
      "execution_count": null,
      "outputs": []
    },
    {
      "cell_type": "code",
      "metadata": {
        "colab": {
          "base_uri": "https://localhost:8080/"
        },
        "id": "coN1S4Z5IysO",
        "outputId": "33b95b55-cd47-4113-ff60-31e938cec225"
      },
      "source": [
        "tokens = okt.morphs(prediction)\n",
        "print(tokens)"
      ],
      "execution_count": null,
      "outputs": [
        {
          "output_type": "stream",
          "text": [
            "['내일', '부산', '날씨', '는', '?']\n"
          ],
          "name": "stdout"
        }
      ]
    },
    {
      "cell_type": "code",
      "metadata": {
        "id": "SprbyWKlIziX"
      },
      "source": [
        "encoded = []\n",
        "\n",
        "for word in tokens:\n",
        "  if word in word_to_index:\n",
        "    encoded.append(word_to_index[word])\n",
        "  else:\n",
        "    encoded.append(word_to_index['OOV'])"
      ],
      "execution_count": null,
      "outputs": []
    },
    {
      "cell_type": "code",
      "metadata": {
        "colab": {
          "base_uri": "https://localhost:8080/"
        },
        "id": "T89u3tsqJGUu",
        "outputId": "5763038a-af8f-424e-eb2e-2598a1aa2e46"
      },
      "source": [
        "print(encoded)"
      ],
      "execution_count": null,
      "outputs": [
        {
          "output_type": "stream",
          "text": [
            "[5, 29, 2, 1, 1]\n"
          ],
          "name": "stdout"
        }
      ]
    },
    {
      "cell_type": "code",
      "metadata": {
        "id": "MwScPRXAJXBt"
      },
      "source": [
        "y_predicted = model.predict([encoded], verbose=False)[0]"
      ],
      "execution_count": null,
      "outputs": []
    },
    {
      "cell_type": "code",
      "metadata": {
        "colab": {
          "base_uri": "https://localhost:8080/"
        },
        "id": "FicmFmnrJcIe",
        "outputId": "98d24852-5348-4ec0-8c08-242d63f34495"
      },
      "source": [
        "print(y_predicted)"
      ],
      "execution_count": null,
      "outputs": [
        {
          "output_type": "stream",
          "text": [
            "[[1.42879835e-05 2.68185395e-04 4.54490160e-04 9.99263108e-01]\n",
            " [7.79799393e-06 2.88926880e-03 9.96588230e-01 5.14661486e-04]\n",
            " [1.11156578e-06 9.99835610e-01 1.62063356e-04 1.20447203e-06]\n",
            " [2.90016236e-04 9.90020275e-01 9.62359738e-03 6.62172752e-05]\n",
            " [3.11723852e-04 9.91826177e-01 7.80753139e-03 5.46172487e-05]]\n"
          ],
          "name": "stdout"
        }
      ]
    },
    {
      "cell_type": "code",
      "metadata": {
        "colab": {
          "base_uri": "https://localhost:8080/"
        },
        "id": "LIe96-odJdod",
        "outputId": "82b67a4b-c190-4e48-f813-9b5c109d9559"
      },
      "source": [
        "y_predicted = y_predicted.argmax(axis=-1)\n",
        "print(y_predicted)"
      ],
      "execution_count": null,
      "outputs": [
        {
          "output_type": "stream",
          "text": [
            "[3 2 1 1 1]\n"
          ],
          "name": "stdout"
        }
      ]
    },
    {
      "cell_type": "code",
      "metadata": {
        "id": "Qvy1iKWGJgHF"
      },
      "source": [
        "y_predicted = [index_to_ner[x].strip() for x in y_predicted]"
      ],
      "execution_count": null,
      "outputs": []
    },
    {
      "cell_type": "code",
      "metadata": {
        "colab": {
          "base_uri": "https://localhost:8080/"
        },
        "id": "4rUsVF2SJteV",
        "outputId": "80931f0d-d1ed-4e0a-fd6f-d745081146d8"
      },
      "source": [
        "print(y_predicted)"
      ],
      "execution_count": null,
      "outputs": [
        {
          "output_type": "stream",
          "text": [
            "['DATE', 'LOCATION', 'O', 'O', 'O']\n"
          ],
          "name": "stdout"
        }
      ]
    },
    {
      "cell_type": "code",
      "metadata": {
        "colab": {
          "base_uri": "https://localhost:8080/"
        },
        "id": "pr0vWbBqJ0Z6",
        "outputId": "7af50e06-0622-4ee5-a0d0-b5acb4c9a9b6"
      },
      "source": [
        "list(zip(tokens, y_predicted))"
      ],
      "execution_count": null,
      "outputs": [
        {
          "output_type": "execute_result",
          "data": {
            "text/plain": [
              "[('내일', 'DATE'), ('부산', 'LOCATION'), ('날씨', 'O'), ('는', 'O'), ('?', 'O')]"
            ]
          },
          "metadata": {
            "tags": []
          },
          "execution_count": 64
        }
      ]
    }
  ]
}